{
 "cells": [
  {
   "cell_type": "code",
   "execution_count": 1,
   "metadata": {},
   "outputs": [
    {
     "name": "stderr",
     "output_type": "stream",
     "text": [
      "/Users/hakeemangulu/Code/dvm/dvm/dvm.py:9: TqdmExperimentalWarning: Using `tqdm.autonotebook.tqdm` in notebook mode. Use `tqdm.tqdm` instead to force console mode (e.g. in jupyter console)\n",
      "  from tqdm.autonotebook import trange\n"
     ]
    }
   ],
   "source": [
    "import dvm"
   ]
  },
  {
   "cell_type": "code",
   "execution_count": 2,
   "metadata": {},
   "outputs": [],
   "source": [
    "import elect"
   ]
  },
  {
   "cell_type": "code",
   "execution_count": 3,
   "metadata": {},
   "outputs": [],
   "source": [
    "import tensorflow as tf"
   ]
  },
  {
   "cell_type": "code",
   "execution_count": 4,
   "metadata": {},
   "outputs": [],
   "source": [
    "import tensorflow_probability as tfp"
   ]
  },
  {
   "cell_type": "code",
   "execution_count": 5,
   "metadata": {},
   "outputs": [],
   "source": [
    "import phc"
   ]
  },
  {
   "cell_type": "code",
   "execution_count": 32,
   "metadata": {},
   "outputs": [],
   "source": [
    "from importlib import reload"
   ]
  },
  {
   "cell_type": "code",
   "execution_count": 59,
   "metadata": {},
   "outputs": [],
   "source": [
    "from scipy.stats import binom"
   ]
  },
  {
   "cell_type": "code",
   "execution_count": 219,
   "metadata": {},
   "outputs": [
    {
     "data": {
      "text/plain": [
       "<module 'elect' from '/Users/hakeemangulu/Code/dvm/dvm/elect.py'>"
      ]
     },
     "execution_count": 219,
     "metadata": {},
     "output_type": "execute_result"
    }
   ],
   "source": [
    "import dvm_eval"
   ]
  },
  {
   "cell_type": "markdown",
   "metadata": {},
   "source": [
    "### Statistics Notes\n",
    "\n",
    "#### First (and wrong) thought\n",
    "v = n = observed number of votes (observed)\n",
    "k = number of demographic groups (len(demo))\n",
    "a_j = x_j = number of votes in demographic group j (partitions)\n",
    "q_j = p_j = probability that demographic group j votes for this candidate (vote_pcts)\n",
    "\n",
    "\n",
    "#### Second thought\n",
    "instead of 1 multinomial for a partition, you have, for each partition, a multinomial for each demographic group, with:\n",
    "k = number of candidates\n",
    "x_j = number of voters for candidate j in this demographic group\n",
    "p_j = probability that the demographic group votes for candidate j\n",
    "n = number of voters in the entire demographic group\n",
    "\n",
    "and you multiply one of these for each demographic group. hence, there are (number of demo groups) * (number of partitions) multinomials happening per phc\n",
    "\n",
    "**infeasible with the current setup of the model.** There is no notion of voting for one of multiple candidates, only one candidate or not that candidate.\n",
    "\n",
    "#### Third thought\n",
    "instead of multinomials, this could be simplified to have a binomial for each demographic group:\n",
    "k = number of people in the demographic group who voted for this candidate (partition)\n",
    "n = number of people in the demographic group (demo)\n",
    "p = probability that the demographic group votes for this candidate (vote_pcts)\n",
    "\n",
    "and you multiply these for each demographic group. hence, there are (number of demo groups) * (number of partitions) binomials happening per phc\n",
    "\n",
    "**correct interpretation with the current version of the model**"
   ]
  },
  {
   "cell_type": "code",
   "execution_count": 6,
   "metadata": {},
   "outputs": [],
   "source": [
    "test_phc = phc.make_phc(3, 10)"
   ]
  },
  {
   "cell_type": "code",
   "execution_count": 8,
   "metadata": {},
   "outputs": [],
   "source": [
    "eval_candidates_2d = ['a', 'b']"
   ]
  },
  {
   "cell_type": "code",
   "execution_count": 9,
   "metadata": {},
   "outputs": [],
   "source": [
    "eval_demo_1 = {'prec_1': {'Group 1': 50, 'Group 2': 50}}"
   ]
  },
  {
   "cell_type": "code",
   "execution_count": 10,
   "metadata": {},
   "outputs": [],
   "source": [
    "eval_dvp_1 = {'prec_1': {'Group 1': {'a': 0.5, 'b': 0.5}, \n",
    "              'Group 2': {'a': 0.3, 'b': 0.7}}}"
   ]
  },
  {
   "cell_type": "code",
   "execution_count": 11,
   "metadata": {},
   "outputs": [],
   "source": [
    "mock_election = elect.Election(eval_candidates_2d, \n",
    "                               eval_demo_1, \n",
    "                               demo_vote_prob=eval_dvp_1)"
   ]
  },
  {
   "cell_type": "code",
   "execution_count": 39,
   "metadata": {},
   "outputs": [],
   "source": [
    "test_demo = {'Group 1': 33, 'Group 2': 33, 'Group 3': 34}"
   ]
  },
  {
   "cell_type": "code",
   "execution_count": 64,
   "metadata": {},
   "outputs": [],
   "source": [
    "partitions = list(tools.permute_integer_partition(5, 3))"
   ]
  },
  {
   "cell_type": "code",
   "execution_count": 188,
   "metadata": {},
   "outputs": [
    {
     "data": {
      "text/plain": [
       "<module 'elect' from '/Users/hakeemangulu/Code/dvm/dvm/elect.py'>"
      ]
     },
     "execution_count": 188,
     "metadata": {},
     "output_type": "execute_result"
    }
   ],
   "source": [
    "reload(pv)\n",
    "reload(elect)"
   ]
  },
  {
   "cell_type": "code",
   "execution_count": 225,
   "metadata": {},
   "outputs": [
    {
     "data": {
      "text/plain": [
       "<tf.Tensor: shape=(), dtype=float32, numpy=-6.227972>"
      ]
     },
     "execution_count": 225,
     "metadata": {},
     "output_type": "execute_result"
    }
   ],
   "source": [
    "pv.prob_votes2(test_phc, test_demo, 89)"
   ]
  },
  {
   "cell_type": "code",
   "execution_count": 195,
   "metadata": {},
   "outputs": [
    {
     "data": {
      "text/plain": [
       "0.00197345"
      ]
     },
     "execution_count": 195,
     "metadata": {},
     "output_type": "execute_result"
    }
   ],
   "source": [
    "np.exp(pv.prob_votes2(test_phc, test_demo, 89))"
   ]
  },
  {
   "cell_type": "code",
   "execution_count": 198,
   "metadata": {},
   "outputs": [],
   "source": [
    "candidates = ['a', 'b']"
   ]
  },
  {
   "cell_type": "code",
   "execution_count": 199,
   "metadata": {},
   "outputs": [],
   "source": [
    "test_dvp = {'Group 1': {'a': 0.2, 'b': 0.8}, \n",
    "            'Group 2': {'a': 0.8, 'b': 0.2}, \n",
    "            'Group 3': {'a': 0.4, 'b': 0.6}}"
   ]
  },
  {
   "cell_type": "code",
   "execution_count": 206,
   "metadata": {},
   "outputs": [],
   "source": [
    "mock = elect.Election(candidates, {'prec_1': test_demo}, demo_vote_prob={'prec_1': test_dvp})"
   ]
  },
  {
   "cell_type": "code",
   "execution_count": 208,
   "metadata": {},
   "outputs": [
    {
     "data": {
      "text/plain": [
       "{'prec_1': {'a': (55, {'Group 1': 9, 'Group 2': 26, 'Group 3': 20}),\n",
       "  'b': (45, {'Group 1': 24, 'Group 2': 7, 'Group 3': 14})}}"
      ]
     },
     "execution_count": 208,
     "metadata": {},
     "output_type": "execute_result"
    }
   ],
   "source": [
    "mock.outcome"
   ]
  },
  {
   "cell_type": "code",
   "execution_count": 224,
   "metadata": {},
   "outputs": [
    {
     "data": {
      "application/vnd.jupyter.widget-view+json": {
       "model_id": "",
       "version_major": 2,
       "version_minor": 0
      },
      "text/plain": [
       "HBox(children=(FloatProgress(value=0.0, description='Experiment progress', max=1.0, style=ProgressStyle(descri…"
      ]
     },
     "metadata": {},
     "output_type": "display_data"
    },
    {
     "data": {
      "application/vnd.jupyter.widget-view+json": {
       "model_id": "",
       "version_major": 2,
       "version_minor": 0
      },
      "text/plain": [
       "HBox(children=(FloatProgress(value=0.0), HTML(value='')))"
      ]
     },
     "metadata": {},
     "output_type": "display_data"
    },
    {
     "data": {
      "text/plain": [
       "{'label': 'test',\n",
       " 'time': 85.82895588874817,\n",
       " 'mle_phc_mse': 0.12249999880790714,\n",
       " 'mean_phc_mse': 0.12249999880790714}"
      ]
     },
     "execution_count": 224,
     "metadata": {},
     "output_type": "execute_result"
    }
   ],
   "source": [
    "dvm_eval.dvm_evaluator(mock, 'test', candidate='a', expec_scoring=True, n_steps=1000)"
   ]
  },
  {
   "cell_type": "code",
   "execution_count": 223,
   "metadata": {},
   "outputs": [
    {
     "data": {
      "application/vnd.jupyter.widget-view+json": {
       "model_id": "",
       "version_major": 2,
       "version_minor": 0
      },
      "text/plain": [
       "HBox(children=(FloatProgress(value=0.0, description='Experiment progress', max=1.0, style=ProgressStyle(descri…"
      ]
     },
     "metadata": {},
     "output_type": "display_data"
    },
    {
     "data": {
      "application/vnd.jupyter.widget-view+json": {
       "model_id": "",
       "version_major": 2,
       "version_minor": 0
      },
      "text/plain": [
       "HBox(children=(FloatProgress(value=0.0), HTML(value='')))"
      ]
     },
     "metadata": {},
     "output_type": "display_data"
    },
    {
     "data": {
      "text/plain": [
       "{'label': 'test',\n",
       " 'time': 129.9595251083374,\n",
       " 'mle_phc_mse': 0.18249999741713208,\n",
       " 'mean_phc_mse': 0.18249999741713208}"
      ]
     },
     "execution_count": 223,
     "metadata": {},
     "output_type": "execute_result"
    }
   ],
   "source": [
    "dvm_eval.dvm_evaluator(mock, 'test', candidate='a', n_steps=1000)"
   ]
  },
  {
   "cell_type": "code",
   "execution_count": null,
   "metadata": {},
   "outputs": [],
   "source": []
  }
 ],
 "metadata": {
  "kernelspec": {
   "display_name": "thesis",
   "language": "python",
   "name": "thesis"
  },
  "language_info": {
   "codemirror_mode": {
    "name": "ipython",
    "version": 3
   },
   "file_extension": ".py",
   "mimetype": "text/x-python",
   "name": "python",
   "nbconvert_exporter": "python",
   "pygments_lexer": "ipython3",
   "version": "3.7.6"
  }
 },
 "nbformat": 4,
 "nbformat_minor": 4
}
